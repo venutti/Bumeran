{
 "cells": [
  {
   "cell_type": "code",
   "execution_count": 1,
   "id": "b7d0ad46",
   "metadata": {},
   "outputs": [],
   "source": [
    "import pandas as pd"
   ]
  },
  {
   "cell_type": "code",
   "execution_count": 2,
   "id": "a07794b2",
   "metadata": {},
   "outputs": [],
   "source": [
    "df = pd.read_json('python.json')"
   ]
  },
  {
   "cell_type": "code",
   "execution_count": 11,
   "id": "1a20ba7e",
   "metadata": {},
   "outputs": [],
   "source": [
    "df['descripcion'].fillna('', inplace=True)"
   ]
  },
  {
   "cell_type": "code",
   "execution_count": 15,
   "id": "2a2c037f",
   "metadata": {},
   "outputs": [],
   "source": [
    "df_exp = df[df['descripcion'].str.contains('exp')]"
   ]
  },
  {
   "cell_type": "code",
   "execution_count": 24,
   "id": "3012c216",
   "metadata": {},
   "outputs": [
    {
     "name": "stdout",
     "output_type": "stream",
     "text": [
      "*) Se requiere contar con experiencia en: Automatización de flujos retail en un frame propio desarrollado en Python y RobotFramework Automatización de procesos/flujo s de negocio Mantenimiento de\n",
      "*) : -Estudios universitarios finalizados -Contar con al menos 2 años de experiencia en posiciones similares -Manejo avanzado de Excel y conocimientos de lenguaje Python o VBA para visualizacion de datos -Nivel de\n",
      "*) Se requiere contar con experiencia en: Automatización de flujos retail en un frame propio desarrollado en Python y RobotFramework Automatización de procesos/flujo s de negocio Mantenimiento de\n",
      "*) /o experiencia en AWS | Excluyente. Experiencia en el trabajo con contenedores Docker | Deseable. Experiencia trabajando con Jenkins | Deseable. Conocimiento en Programación (Deseable Java o ruby y/o python\n",
      "*) carreras afines al negocio bancario (excluyente) Se valora contar con conocimientos en algún lenguaje de programación (SQL, SAS, PYTHON o R) y experiencia/ conocimientos en DATA. Experiencia en diseño y\n",
      "*) Ciencias Económicas - Experiencia en Cloud Frameworks como GCP, Azure, AWS o similar - Experiencia en SQL, Python o R, Big Data, BFS Modeling.... - Será valorada experiencia en herramientas de explotación de\n",
      "*) experiencia increíble. Experiencia, conocimientos y requisitos: Dominio de lenguajes de programación: Python, C#, PHPo Scripting BASH y BATCH Paradigmas: Estructurados, Orientado a Objetos, etc. Manejo de\n",
      "*) Conocimientos y experiencias: -Licenciatura o experiencia equivalente en ingeniería de software. disciplina -Experiencia práctica en Python o Java, Web Services, Cloud, DevOps y automatización. -C onocimiento\n",
      "*) programación como Javascript, Python , NodeJS. xpath, Github., Selenium, Postman esta es una gran posibilidad de unirte a un proyecto con altos estándares de aprendizaje, experiencia y desarrollo profesional que\n",
      "*) , .NET, Python, Perl). Proactivo y orientado a resultados. Sólida experiencia en prácticas de desarrollo de DevOps, Sast, Dast, canalizaciones de CI/CD. Colaboración de manera efectiva con una variedad de\n",
      "*) obtención de datos, registros de auditoría, telemetría y monitoreo (Python, PoweShell,Bash,Perl, etc). Manejo de expresiones regulares. Y suma si contás con conocimientos intermedios de administración Unix y\n"
     ]
    },
    {
     "data": {
      "text/plain": [
       "2     None\n",
       "3     None\n",
       "6     None\n",
       "20    None\n",
       "26    None\n",
       "28    None\n",
       "32    None\n",
       "34    None\n",
       "42    None\n",
       "47    None\n",
       "63    None\n",
       "Name: descripcion, dtype: object"
      ]
     },
     "execution_count": 24,
     "metadata": {},
     "output_type": "execute_result"
    }
   ],
   "source": [
    "df_exp['descripcion'].apply(lambda x: print(f'*) {x}'))"
   ]
  },
  {
   "cell_type": "code",
   "execution_count": null,
   "id": "aca89a4f",
   "metadata": {},
   "outputs": [],
   "source": []
  }
 ],
 "metadata": {
  "kernelspec": {
   "display_name": "Python 3 (ipykernel)",
   "language": "python",
   "name": "python3"
  },
  "language_info": {
   "codemirror_mode": {
    "name": "ipython",
    "version": 3
   },
   "file_extension": ".py",
   "mimetype": "text/x-python",
   "name": "python",
   "nbconvert_exporter": "python",
   "pygments_lexer": "ipython3",
   "version": "3.9.12"
  }
 },
 "nbformat": 4,
 "nbformat_minor": 5
}
